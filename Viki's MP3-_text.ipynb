{
 "cells": [
  {
   "cell_type": "code",
   "execution_count": 7,
   "id": "cc7ccd7b",
   "metadata": {},
   "outputs": [
    {
     "name": "stdout",
     "output_type": "stream",
     "text": [
      "My thought. I have nobody by a beauty and will as you pu'd Mister Rochester is sub and that so don't find Simpus and devoted abowd to what might in.\n"
     ]
    }
   ],
   "source": [
    "import assemblyai as aai\n",
    "\n",
    "def mp3_transcription(audio_file): \n",
    "    aai.settings.api_key = \"-\"\n",
    "    transcriber = aai.Transcriber()\n",
    "    transcript = transcriber.transcribe(audio_file)\n",
    "    print(transcript.text)\n",
    "\n",
    "mp3_transcription('https://audio-samples.github.io/samples/mp3/blizzard_unconditional/sample-0.mp3')"
   ]
  },
  {
   "cell_type": "code",
   "execution_count": null,
   "id": "9d37c2a9",
   "metadata": {},
   "outputs": [],
   "source": []
  }
 ],
 "metadata": {
  "kernelspec": {
   "display_name": "Python 3 (ipykernel)",
   "language": "python",
   "name": "python3"
  },
  "language_info": {
   "codemirror_mode": {
    "name": "ipython",
    "version": 3
   },
   "file_extension": ".py",
   "mimetype": "text/x-python",
   "name": "python",
   "nbconvert_exporter": "python",
   "pygments_lexer": "ipython3",
   "version": "3.10.9"
  }
 },
 "nbformat": 4,
 "nbformat_minor": 5
}
