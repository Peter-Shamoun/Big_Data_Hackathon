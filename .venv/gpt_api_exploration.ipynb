{
 "cells": [
  {
   "cell_type": "code",
   "execution_count": 46,
   "metadata": {},
   "outputs": [],
   "source": [
    "import os\n",
    "from openai import OpenAI\n",
    "import json\n"
   ]
  },
  {
   "cell_type": "code",
   "execution_count": 16,
   "metadata": {},
   "outputs": [],
   "source": [
    "API_KEY = None"
   ]
  },
  {
   "cell_type": "code",
   "execution_count": 53,
   "metadata": {},
   "outputs": [
    {
     "name": "stdout",
     "output_type": "stream",
     "text": [
      "Response: Thank you for reaching out, Edna. I can help you schedule an appointment. Please hold on while I check the availability for you. |\n",
      "\n",
      "Action: Checking appointment availability. |\n",
      "\n",
      "Patient description: \n",
      "- Age: 70\n",
      "- Gender: Female\n",
      "- Weight: Not Known\n",
      "- Height: Not Known\n",
      "- Medical history: Not Known\n",
      "- Current medications: Not Known\n",
      "- Allergies: Not Known\n",
      "- Symptoms: Not Known\n",
      "- Vital signs: Not Known\n",
      "- Recent test results: Not Known\n"
     ]
    }
   ],
   "source": [
    "client = OpenAI(api_key=API_KEY)\n",
    "GPT_MODEL = \"gpt-4o-mini\"\n",
    "messages = [\n",
    "        {\"role\": \"system\", \"content\": \"\"\"\n",
    "         \n",
    "         \n",
    "        You are a virtual health assistant for Sharp Healthcare. Your role is \n",
    "         to assist customers by answering inquiries, scheduling appointments,\n",
    "         checking medications, and compiling detailed patient descriptions. \n",
    "         When building the patient description, gather and update essential \n",
    "         health details, including:\n",
    "\n",
    "    Age: patient age\n",
    "    gender: patient gender\n",
    "    weight: patient weight\n",
    "    height: patient height\n",
    "    Medical history: Chronic conditions, past surgeries, and family history of\n",
    "    diseases.\n",
    "    Current medications: Names, dosages, and frequency of all medications.\n",
    "    Allergies: Include drug, food, and environmental allergies.\n",
    "    Symptoms: Describe current symptoms and their onset, severity, and duration.\n",
    "    Vital signs: Record available information such as blood pressure, heart rate, and temperature.\n",
    "    Recent test results: Include relevant lab results (e.g., blood tests, imaging).\n",
    "    Ensure your responses address the customer's immediate request while keeping the patient's information up to date.\n",
    "         \n",
    "    If a field is unknown, write Not Known as the value\n",
    "\n",
    "Format your outputs like this:\n",
    "\n",
    "Response: Your response to the customer.\n",
    "Action: The action you take (e.g., making an appointment, checking medications, updating records, etc.).\n",
    "Patient description: A detailed and updated summary of the patient's information.\n",
    "Split the response, action, and patient description with a |\n",
    "\n",
    "         \n",
    "         \"\"\"\n",
    "        },\n",
    "        {\"role\": \"user\", \"content\": \"\"\"\n",
    "         Hello, my name is Edna and I am a 70 year old woman. I am calling to \n",
    "         see when the next avaiable appointment is\n",
    "            \"\"\"},\n",
    "    ]\n",
    "response = client.chat.completions.create(\n",
    "        model=GPT_MODEL,\n",
    "        messages=messages,\n",
    "        temperature=0\n",
    "    )\n",
    "response_message = response.choices[0].message.content\n",
    "print(response_message)\n"
   ]
  },
  {
   "cell_type": "code",
   "execution_count": 75,
   "metadata": {},
   "outputs": [
    {
     "data": {
      "text/plain": [
       "{'Patient description': {' Age': ' 70',\n",
       "  ' Gender': ' Female',\n",
       "  ' Weight': ' Not Known',\n",
       "  ' Height': ' Not Known',\n",
       "  ' Medical history': ' Not Known',\n",
       "  ' Current medications': ' Not Known',\n",
       "  ' Allergies': ' Not Known',\n",
       "  ' Symptoms': ' Not Known',\n",
       "  ' Vital signs': ' Not Known',\n",
       "  ' Recent test results': ' Not Known'},\n",
       " 'Response': ' Thank you for reaching out, Edna. I can help you schedule an appointment. Please hold on while I check the availability for you. ',\n",
       " 'Action': ' Checking appointment availability. '}"
      ]
     },
     "execution_count": 75,
     "metadata": {},
     "output_type": "execute_result"
    }
   ],
   "source": [
    "response_list = response_message.split(\"|\")\n",
    "response_list[2] = response_list[2].replace(\"-\",\"\").strip(\"\\n\")\n",
    "out = {\"Patient description\" : {}}\n",
    "for i in range(3):\n",
    "    if i != 2:\n",
    "         out[response_list[i].split(\":\")[0].strip(\"\\n\")] = response_list[i].split(\":\")[1]\n",
    "    else:\n",
    "        for i in response_list[2].split(\"\\n\")[1:]:\n",
    "            out['Patient description'][i.split(\":\")[0]] = i.split(\":\")[1]\n",
    "\n",
    "out\n",
    "\n",
    "    "
   ]
  },
  {
   "cell_type": "code",
   "execution_count": null,
   "metadata": {},
   "outputs": [],
   "source": []
  }
 ],
 "metadata": {
  "kernelspec": {
   "display_name": ".venv",
   "language": "python",
   "name": "python3"
  },
  "language_info": {
   "codemirror_mode": {
    "name": "ipython",
    "version": 3
   },
   "file_extension": ".py",
   "mimetype": "text/x-python",
   "name": "python",
   "nbconvert_exporter": "python",
   "pygments_lexer": "ipython3",
   "version": "3.12.3"
  }
 },
 "nbformat": 4,
 "nbformat_minor": 2
}
